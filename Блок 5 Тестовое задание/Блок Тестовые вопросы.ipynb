{
 "cells": [
  {
   "cell_type": "code",
   "execution_count": 3,
   "id": "9891d3cd",
   "metadata": {},
   "outputs": [
    {
     "name": "stdout",
     "output_type": "stream",
     "text": [
      "Collecting statsmodels\n",
      "  Using cached statsmodels-0.14.4-cp313-cp313-win_amd64.whl.metadata (9.5 kB)\n",
      "Requirement already satisfied: numpy<3,>=1.22.3 in c:\\users\\user\\appdata\\local\\programs\\python\\python313\\lib\\site-packages (from statsmodels) (2.2.1)\n",
      "Requirement already satisfied: scipy!=1.9.2,>=1.8 in c:\\users\\user\\appdata\\local\\programs\\python\\python313\\lib\\site-packages (from statsmodels) (1.15.1)\n",
      "Requirement already satisfied: pandas!=2.1.0,>=1.4 in c:\\users\\user\\appdata\\local\\programs\\python\\python313\\lib\\site-packages (from statsmodels) (2.2.3)\n",
      "Collecting patsy>=0.5.6 (from statsmodels)\n",
      "  Using cached patsy-1.0.1-py2.py3-none-any.whl.metadata (3.3 kB)\n",
      "Requirement already satisfied: packaging>=21.3 in c:\\users\\user\\appdata\\roaming\\python\\python313\\site-packages (from statsmodels) (24.2)\n",
      "Requirement already satisfied: python-dateutil>=2.8.2 in c:\\users\\user\\appdata\\roaming\\python\\python313\\site-packages (from pandas!=2.1.0,>=1.4->statsmodels) (2.9.0.post0)\n",
      "Requirement already satisfied: pytz>=2020.1 in c:\\users\\user\\appdata\\local\\programs\\python\\python313\\lib\\site-packages (from pandas!=2.1.0,>=1.4->statsmodels) (2024.2)\n",
      "Requirement already satisfied: tzdata>=2022.7 in c:\\users\\user\\appdata\\local\\programs\\python\\python313\\lib\\site-packages (from pandas!=2.1.0,>=1.4->statsmodels) (2024.2)\n",
      "Requirement already satisfied: six>=1.5 in c:\\users\\user\\appdata\\roaming\\python\\python313\\site-packages (from python-dateutil>=2.8.2->pandas!=2.1.0,>=1.4->statsmodels) (1.17.0)\n",
      "Using cached statsmodels-0.14.4-cp313-cp313-win_amd64.whl (9.8 MB)\n",
      "Using cached patsy-1.0.1-py2.py3-none-any.whl (232 kB)\n",
      "Installing collected packages: patsy, statsmodels\n",
      "Successfully installed patsy-1.0.1 statsmodels-0.14.4\n",
      "Note: you may need to restart the kernel to use updated packages.\n"
     ]
    },
    {
     "name": "stderr",
     "output_type": "stream",
     "text": [
      "\n",
      "[notice] A new release of pip is available: 24.3.1 -> 25.0.1\n",
      "[notice] To update, run: python.exe -m pip install --upgrade pip\n"
     ]
    }
   ],
   "source": [
    "pip install statsmodels"
   ]
  },
  {
   "cell_type": "code",
   "execution_count": 4,
   "id": "4e0980ef-ea64-4141-b1c1-a31db37fc04a",
   "metadata": {},
   "outputs": [],
   "source": [
    "import pandas as pd\n",
    "import numpy as np\n",
    "\n",
    "import random\n",
    "\n",
    "import matplotlib.pyplot as plt\n",
    "import seaborn as sns\n",
    "\n",
    "import statsmodels.api as sm\n",
    "from scipy.stats import norm\n",
    "from scipy.stats import t"
   ]
  },
  {
   "cell_type": "code",
   "execution_count": 5,
   "id": "a7aa8535-b554-4125-bca9-48772a79f740",
   "metadata": {},
   "outputs": [
    {
     "data": {
      "text/html": [
       "<div>\n",
       "<style scoped>\n",
       "    .dataframe tbody tr th:only-of-type {\n",
       "        vertical-align: middle;\n",
       "    }\n",
       "\n",
       "    .dataframe tbody tr th {\n",
       "        vertical-align: top;\n",
       "    }\n",
       "\n",
       "    .dataframe thead th {\n",
       "        text-align: right;\n",
       "    }\n",
       "</style>\n",
       "<table border=\"1\" class=\"dataframe\">\n",
       "  <thead>\n",
       "    <tr style=\"text-align: right;\">\n",
       "      <th></th>\n",
       "      <th>date</th>\n",
       "      <th>user_id</th>\n",
       "      <th>view_adverts</th>\n",
       "    </tr>\n",
       "  </thead>\n",
       "  <tbody>\n",
       "    <tr>\n",
       "      <th>0</th>\n",
       "      <td>2023-11-11</td>\n",
       "      <td>8c020470-8461-11ed-83d0-552e8cc749d6</td>\n",
       "      <td>13</td>\n",
       "    </tr>\n",
       "    <tr>\n",
       "      <th>1</th>\n",
       "      <td>2023-11-18</td>\n",
       "      <td>5875f070-7b92-11ee-a6fb-8b298e83f4f7</td>\n",
       "      <td>14</td>\n",
       "    </tr>\n",
       "    <tr>\n",
       "      <th>2</th>\n",
       "      <td>2023-11-29</td>\n",
       "      <td>3c2d27c0-4fd6-11eb-b89f-2ffb31b67dd6</td>\n",
       "      <td>21</td>\n",
       "    </tr>\n",
       "    <tr>\n",
       "      <th>3</th>\n",
       "      <td>2023-11-29</td>\n",
       "      <td>234a96d0-ad16-11ed-a2e6-793ddfeeba1f</td>\n",
       "      <td>23</td>\n",
       "    </tr>\n",
       "    <tr>\n",
       "      <th>4</th>\n",
       "      <td>2023-11-29</td>\n",
       "      <td>4d07c180-644f-11eb-879c-b7c02edf4f37</td>\n",
       "      <td>12</td>\n",
       "    </tr>\n",
       "  </tbody>\n",
       "</table>\n",
       "</div>"
      ],
      "text/plain": [
       "        date                               user_id  view_adverts\n",
       "0 2023-11-11  8c020470-8461-11ed-83d0-552e8cc749d6            13\n",
       "1 2023-11-18  5875f070-7b92-11ee-a6fb-8b298e83f4f7            14\n",
       "2 2023-11-29  3c2d27c0-4fd6-11eb-b89f-2ffb31b67dd6            21\n",
       "3 2023-11-29  234a96d0-ad16-11ed-a2e6-793ddfeeba1f            23\n",
       "4 2023-11-29  4d07c180-644f-11eb-879c-b7c02edf4f37            12"
      ]
     },
     "execution_count": 5,
     "metadata": {},
     "output_type": "execute_result"
    }
   ],
   "source": [
    "df = pd.read_excel('Данные для тестового задания.xlsx', sheet_name='Данные об аудитории')\n",
    "df.head()"
   ]
  },
  {
   "cell_type": "markdown",
   "id": "a4a3db85-82f7-457e-9a06-fd42b921040c",
   "metadata": {},
   "source": [
    "1. Во вкладке \"Данные об аудитории\" информация о пользователях, посетивших наше приложение в ноябре. Чему равен MAU продукта? \n",
    "*MAU (Monthly Active Users) — это метрика, используемая для измерения активности пользователей в течение одного месяца. Она показывает количество уникальных пользователей, которые взаимодействовали с продуктом, сервисом или приложением хотя бы один раз за последний месяц.\n"
   ]
  },
  {
   "cell_type": "code",
   "execution_count": 6,
   "id": "18f5a7e8-4dbd-4202-9eb6-eab2a6486ca5",
   "metadata": {},
   "outputs": [
    {
     "name": "stdout",
     "output_type": "stream",
     "text": [
      "MAU за ноябрь 2023: 7639\n"
     ]
    }
   ],
   "source": [
    "# Преобразуем дату в формат datetime\n",
    "df['date'] = pd.to_datetime(df['date'])\n",
    "\n",
    "# Фильтруем данные за ноябрь 2023 года\n",
    "df_november = df[(df['date'].dt.year == 2023) & (df['date'].dt.month == 11)]\n",
    "\n",
    "# Количество уникальных пользователей (MAU)\n",
    "mau = df_november['user_id'].nunique()\n",
    "\n",
    "print(f\"MAU за ноябрь 2023: {mau}\")"
   ]
  },
  {
   "cell_type": "markdown",
   "id": "63e597cf-20c4-4b57-9325-67626e6bbd68",
   "metadata": {},
   "source": [
    "2. Используя вкладку \"Данные об аудитории\", посчитайте, чему будет равен DAU \n",
    "*DAU (Daily Active Users) — это метрика, которая показывает количество уникальных пользователей, которые взаимодействовали с продуктом, приложением или сервисом хотя бы один раз в течение дня. DAU помогает понять, сколько пользователей активно пользуются продуктом каждый день.\n"
   ]
  },
  {
   "cell_type": "code",
   "execution_count": 7,
   "id": "41aac0a2-1931-4b90-a0be-43e8b9dc6a1a",
   "metadata": {},
   "outputs": [
    {
     "name": "stdout",
     "output_type": "stream",
     "text": [
      "         date  user_id\n",
      "0  2023-11-01      623\n",
      "1  2023-11-02      649\n",
      "2  2023-11-03      573\n",
      "3  2023-11-04      343\n",
      "4  2023-11-05      350\n",
      "5  2023-11-06      660\n",
      "6  2023-11-07      629\n",
      "7  2023-11-08      600\n",
      "8  2023-11-09      661\n",
      "9  2023-11-10      583\n",
      "10 2023-11-11      354\n",
      "11 2023-11-12      377\n",
      "12 2023-11-13      646\n",
      "13 2023-11-14      687\n",
      "14 2023-11-15      690\n",
      "15 2023-11-16      639\n",
      "16 2023-11-17      585\n",
      "17 2023-11-18      412\n",
      "18 2023-11-19      378\n",
      "19 2023-11-20      711\n",
      "20 2023-11-21      651\n",
      "21 2023-11-22      608\n",
      "22 2023-11-23      632\n",
      "23 2023-11-24      595\n",
      "24 2023-11-25      366\n",
      "25 2023-11-26      372\n",
      "26 2023-11-27      589\n",
      "27 2023-11-28      610\n",
      "28 2023-11-29      621\n",
      "29 2023-11-30      620\n"
     ]
    }
   ],
   "source": [
    "#2. Используя вкладку \"Данные об аудитории\", посчитайте, чему будет равен DAU \n",
    "# Считаем количество уникальных пользователей для каждого дня\n",
    "dau = df.groupby('date')['user_id'].nunique().reset_index()\n",
    "\n",
    "# Выводим результат\n",
    "print(dau)"
   ]
  },
  {
   "cell_type": "code",
   "execution_count": 8,
   "id": "583b3005-c443-4d81-9e7f-0f1ca78b28d0",
   "metadata": {},
   "outputs": [
    {
     "name": "stdout",
     "output_type": "stream",
     "text": [
      "Средний DAU за ноябрь: 560.47\n"
     ]
    }
   ],
   "source": [
    "average_dau = dau['user_id'].mean()\n",
    "print(f\"Средний DAU за ноябрь: {average_dau:.2f}\")"
   ]
  },
  {
   "cell_type": "markdown",
   "id": "022b7900-85c9-4024-b523-f0086f452d79",
   "metadata": {},
   "source": [
    "3. Используя вкладку \"Данные об аудитории\", посчитайте, чему будет равен retention первого дня у пользователей, пришедших в продукт 1 ноября \n",
    "Retention (удержание пользователей) — это метрика, которая показывает, сколько пользователей продолжает пользоваться продуктом через определенный промежуток времени после первоначального взаимодействия. Retention можно рассчитать как процент пользователей, вернувшихся в продукт через определенное время (например, через 1 день, 1 неделю, 1 месяц) от количества всех новых пользователей.\n"
   ]
  },
  {
   "cell_type": "code",
   "execution_count": 9,
   "id": "4637f710-4224-4bf8-90ed-afa7e3ade373",
   "metadata": {},
   "outputs": [
    {
     "name": "stdout",
     "output_type": "stream",
     "text": [
      "Day 1 Retention (удержание первого дня) за 1 ноября: 26.65%\n"
     ]
    }
   ],
   "source": [
    "# Преобразуем дату в datetime\n",
    "df['date'] = pd.to_datetime(df['date'])\n",
    "\n",
    "# Находим пользователей, которые впервые зашли в продукт 1 ноября\n",
    "first_nov_users = df[df['date'] == '2023-11-01']['user_id'].unique()\n",
    "\n",
    "# Смотрим, сколько из них вернулись 2 ноября\n",
    "retained_users = df[(df['date'] == '2023-11-02') & (df['user_id'].isin(first_nov_users))]['user_id'].nunique()\n",
    "\n",
    "# Общее количество новых пользователей 1 ноября\n",
    "total_new_users = len(first_nov_users)\n",
    "\n",
    "# Рассчитываем ретеншн первого дня (в процентах)\n",
    "retention_rate = (retained_users / total_new_users) * 100 if total_new_users > 0 else 0\n",
    "\n",
    "print(f\"Day 1 Retention (удержание первого дня) за 1 ноября: {retention_rate:.2f}%\")"
   ]
  },
  {
   "cell_type": "markdown",
   "id": "67f74717-e986-41d2-ab77-019bcece4cff",
   "metadata": {},
   "source": [
    "5. Во вкладке \"Данные об аудитории\" есть информация о том, сколько объявлений посмотрел каждый пользователь (view_adverts). Посчитайте пользовательскую конверсию в просмотр объявления за ноябрь? (в пользователях) "
   ]
  },
  {
   "cell_type": "code",
   "execution_count": 10,
   "id": "87cecd6c-7d61-4fe2-be71-f2787933da47",
   "metadata": {},
   "outputs": [
    {
     "name": "stdout",
     "output_type": "stream",
     "text": [
      "Пользовательская конверсия в просмотр объявления за ноябрь: 46.31%\n"
     ]
    }
   ],
   "source": [
    "# Считаем пользователей, которые посмотрели хотя бы одно объявление\n",
    "viewers = df_november[df_november['view_adverts'] > 0]['user_id'].nunique()\n",
    "\n",
    "# Рассчитываем конверсию в просмотр объявления\n",
    "conversion_rate = (viewers / mau) * 100 if mau > 0 else 0\n",
    "\n",
    "print(f\"Пользовательская конверсия в просмотр объявления за ноябрь: {conversion_rate:.2f}%\")"
   ]
  },
  {
   "cell_type": "markdown",
   "id": "db4d1a84-960b-4934-896d-16896d09c78f",
   "metadata": {},
   "source": [
    "6. Используя информацию из вкладки \"Данные об аудитории\", посчитайте среднее количество просмотренных объявлений на пользователя в ноябре"
   ]
  },
  {
   "cell_type": "code",
   "execution_count": 11,
   "id": "20a351fc-3f52-4e81-bb82-e6b9f2d0222e",
   "metadata": {},
   "outputs": [
    {
     "name": "stdout",
     "output_type": "stream",
     "text": [
      "Среднее количество просмотренных объявлений на пользователя в ноябре: 2.87\n"
     ]
    }
   ],
   "source": [
    "# Считаем общее количество просмотров объявлений\n",
    "total_views = df_november['view_adverts'].sum()\n",
    "# Рассчитываем среднее количество просмотров на пользователя\n",
    "avg_views_per_user = total_views / mau if mau > 0 else 0\n",
    "\n",
    "print(f\"Среднее количество просмотренных объявлений на пользователя в ноябре: {avg_views_per_user:.2f}\")"
   ]
  },
  {
   "cell_type": "markdown",
   "id": "8117d7fe-6818-4d1d-80ea-51ad883178f3",
   "metadata": {},
   "source": [
    "7. Мы провели опрос среди 2000 пользователей. Из них 500 «критики», 1200 «сторонники» и 300 «нейтралы». Посчитайте, чему будет равен NPS \n",
    "* NPS (Net Promoter Score) — это метрика, которая измеряет лояльность пользователей к компании или продукту и делит их на три группы: Сторонники (Promoters) , Нейтралы (Passives),  Критики (Detractors). NPS высчитывается как (% сторонников - % критиков).\n"
   ]
  },
  {
   "cell_type": "code",
   "execution_count": 23,
   "id": "981a7ea5-66fd-43ba-99f9-7b4c2de329fb",
   "metadata": {},
   "outputs": [
    {
     "name": "stdout",
     "output_type": "stream",
     "text": [
      "NPS: 35.00\n"
     ]
    }
   ],
   "source": [
    "# Данные\n",
    "total_respondents = 2000\n",
    "promoters = 1200\n",
    "passives = 300\n",
    "detractors = 500\n",
    "\n",
    "# Вычисляем процентные доли\n",
    "promoters_pct = (promoters / total_respondents) * 100\n",
    "detractors_pct = (detractors / total_respondents) * 100\n",
    "\n",
    "# Рассчитываем NPS\n",
    "nps = promoters_pct - detractors_pct\n",
    "\n",
    "print(f\"NPS: {nps:.2f}\")"
   ]
  },
  {
   "cell_type": "markdown",
   "id": "89d861bf-41b9-465c-bb75-c22559473194",
   "metadata": {},
   "source": [
    "8. Во вкладке \"Данные АБ-тестов\" результаты трех несвязанных АБ тестов для ARPU (общая выручка/общее количество пользователей).\n",
    "Посмотрите на результаты тестов и интерпретируйте их. Напишите значения p-value, которые вы получили.\n"
   ]
  },
  {
   "cell_type": "code",
   "execution_count": 13,
   "id": "c18155de-959d-4704-8227-07ac2e601682",
   "metadata": {},
   "outputs": [
    {
     "data": {
      "text/html": [
       "<div>\n",
       "<style scoped>\n",
       "    .dataframe tbody tr th:only-of-type {\n",
       "        vertical-align: middle;\n",
       "    }\n",
       "\n",
       "    .dataframe tbody tr th {\n",
       "        vertical-align: top;\n",
       "    }\n",
       "\n",
       "    .dataframe thead th {\n",
       "        text-align: right;\n",
       "    }\n",
       "</style>\n",
       "<table border=\"1\" class=\"dataframe\">\n",
       "  <thead>\n",
       "    <tr style=\"text-align: right;\">\n",
       "      <th></th>\n",
       "      <th>experiment_num</th>\n",
       "      <th>experiment_group</th>\n",
       "      <th>user_id</th>\n",
       "      <th>revenue</th>\n",
       "    </tr>\n",
       "  </thead>\n",
       "  <tbody>\n",
       "    <tr>\n",
       "      <th>0</th>\n",
       "      <td>1</td>\n",
       "      <td>test</td>\n",
       "      <td>38456</td>\n",
       "      <td>520</td>\n",
       "    </tr>\n",
       "    <tr>\n",
       "      <th>1</th>\n",
       "      <td>1</td>\n",
       "      <td>control</td>\n",
       "      <td>13125924</td>\n",
       "      <td>806</td>\n",
       "    </tr>\n",
       "    <tr>\n",
       "      <th>2</th>\n",
       "      <td>1</td>\n",
       "      <td>control</td>\n",
       "      <td>9761984</td>\n",
       "      <td>0</td>\n",
       "    </tr>\n",
       "    <tr>\n",
       "      <th>3</th>\n",
       "      <td>1</td>\n",
       "      <td>test</td>\n",
       "      <td>11387012</td>\n",
       "      <td>208</td>\n",
       "    </tr>\n",
       "    <tr>\n",
       "      <th>4</th>\n",
       "      <td>1</td>\n",
       "      <td>test</td>\n",
       "      <td>18319648</td>\n",
       "      <td>104</td>\n",
       "    </tr>\n",
       "  </tbody>\n",
       "</table>\n",
       "</div>"
      ],
      "text/plain": [
       "   experiment_num experiment_group   user_id  revenue\n",
       "0               1             test     38456      520\n",
       "1               1          control  13125924      806\n",
       "2               1          control   9761984        0\n",
       "3               1             test  11387012      208\n",
       "4               1             test  18319648      104"
      ]
     },
     "execution_count": 13,
     "metadata": {},
     "output_type": "execute_result"
    }
   ],
   "source": [
    "df = pd.read_excel('Данные для тестового задания.xlsx', sheet_name='Данные АБ тестов')\n",
    "df.head()"
   ]
  },
  {
   "cell_type": "code",
   "execution_count": 14,
   "id": "a6629609-21ee-4628-81b8-b63f62f8b004",
   "metadata": {},
   "outputs": [
    {
     "name": "stdout",
     "output_type": "stream",
     "text": [
      "\n",
      "Эксперимент 1:\n",
      "Средний ARPU в контрольной группе: 722.46\n",
      "Средний ARPU в тестовой группе: 665.74\n",
      "P-value: 0.6890\n",
      "✅ Различие НЕ статистически значимо → нововведение не дало эффекта.\n",
      "\n",
      "Эксперимент 2:\n",
      "Средний ARPU в контрольной группе: 704.65\n",
      "Средний ARPU в тестовой группе: 332.93\n",
      "P-value: 0.0011\n",
      "❗ Различие статистически значимо → тестовая гипотеза подтверждена.\n",
      "\n",
      "Эксперимент 3:\n",
      "Средний ARPU в контрольной группе: 663.21\n",
      "Средний ARPU в тестовой группе: 998.67\n",
      "P-value: 0.0603\n",
      "✅ Различие НЕ статистически значимо → нововведение не дало эффекта.\n"
     ]
    }
   ],
   "source": [
    "from scipy.stats import ttest_ind\n",
    "# Создаем функцию для анализа каждого эксперимента\n",
    "def analyze_experiment(df, experiment_num):\n",
    "    df_exp = df[df['experiment_num'] == experiment_num]\n",
    "\n",
    "    # Разделяем группы\n",
    "    control = df_exp[df_exp['experiment_group'] == 'control']['revenue']\n",
    "    test = df_exp[df_exp['experiment_group'] == 'test']['revenue']\n",
    "\n",
    "    # Вычисляем средний ARPU\n",
    "    arpu_control = control.mean()\n",
    "    arpu_test = test.mean()\n",
    "\n",
    "    # Выполняем t-тест\n",
    "    t_stat, p_value = ttest_ind(test, control, equal_var=False)\n",
    "\n",
    "    print(f\"\\nЭксперимент {experiment_num}:\")\n",
    "    print(f\"Средний ARPU в контрольной группе: {arpu_control:.2f}\")\n",
    "    print(f\"Средний ARPU в тестовой группе: {arpu_test:.2f}\")\n",
    "    print(f\"P-value: {p_value:.4f}\")\n",
    "\n",
    "    # Интерпретация результатов\n",
    "    if p_value < 0.05:\n",
    "        print(\"❗ Различие статистически значимо → тестовая гипотеза подтверждена.\")\n",
    "    else:\n",
    "        print(\"✅ Различие НЕ статистически значимо → нововведение не дало эффекта.\")\n",
    "\n",
    "# Анализируем все 3 эксперимента\n",
    "for exp_num in df['experiment_num'].unique():\n",
    "    analyze_experiment(df, exp_num)"
   ]
  },
  {
   "cell_type": "markdown",
   "id": "94db2d1f-6d31-4c26-937b-2ee7a4a82b3c",
   "metadata": {},
   "source": [
    "9. По датасету с листерами посчитайте средний доход на пользователя"
   ]
  },
  {
   "cell_type": "code",
   "execution_count": 26,
   "id": "87a24908-0d18-4754-b833-6f819a0464a1",
   "metadata": {},
   "outputs": [
    {
     "data": {
      "text/html": [
       "<div>\n",
       "<style scoped>\n",
       "    .dataframe tbody tr th:only-of-type {\n",
       "        vertical-align: middle;\n",
       "    }\n",
       "\n",
       "    .dataframe tbody tr th {\n",
       "        vertical-align: top;\n",
       "    }\n",
       "\n",
       "    .dataframe thead th {\n",
       "        text-align: right;\n",
       "    }\n",
       "</style>\n",
       "<table border=\"1\" class=\"dataframe\">\n",
       "  <thead>\n",
       "    <tr style=\"text-align: right;\">\n",
       "      <th></th>\n",
       "      <th>user_id</th>\n",
       "      <th>date</th>\n",
       "      <th>cnt_adverts</th>\n",
       "      <th>age</th>\n",
       "      <th>cnt_contacts</th>\n",
       "      <th>revenue</th>\n",
       "    </tr>\n",
       "  </thead>\n",
       "  <tbody>\n",
       "    <tr>\n",
       "      <th>0</th>\n",
       "      <td>100</td>\n",
       "      <td>2022-01-01</td>\n",
       "      <td>6</td>\n",
       "      <td>21</td>\n",
       "      <td>119</td>\n",
       "      <td>53</td>\n",
       "    </tr>\n",
       "    <tr>\n",
       "      <th>1</th>\n",
       "      <td>100</td>\n",
       "      <td>2022-01-02</td>\n",
       "      <td>2</td>\n",
       "      <td>21</td>\n",
       "      <td>200</td>\n",
       "      <td>18</td>\n",
       "    </tr>\n",
       "    <tr>\n",
       "      <th>2</th>\n",
       "      <td>100</td>\n",
       "      <td>2022-01-03</td>\n",
       "      <td>6</td>\n",
       "      <td>21</td>\n",
       "      <td>193</td>\n",
       "      <td>42</td>\n",
       "    </tr>\n",
       "    <tr>\n",
       "      <th>3</th>\n",
       "      <td>100</td>\n",
       "      <td>2022-01-04</td>\n",
       "      <td>2</td>\n",
       "      <td>21</td>\n",
       "      <td>143</td>\n",
       "      <td>38</td>\n",
       "    </tr>\n",
       "    <tr>\n",
       "      <th>4</th>\n",
       "      <td>100</td>\n",
       "      <td>2022-01-05</td>\n",
       "      <td>2</td>\n",
       "      <td>21</td>\n",
       "      <td>190</td>\n",
       "      <td>40</td>\n",
       "    </tr>\n",
       "  </tbody>\n",
       "</table>\n",
       "</div>"
      ],
      "text/plain": [
       "   user_id       date  cnt_adverts  age  cnt_contacts  revenue\n",
       "0      100 2022-01-01            6   21           119       53\n",
       "1      100 2022-01-02            2   21           200       18\n",
       "2      100 2022-01-03            6   21           193       42\n",
       "3      100 2022-01-04            2   21           143       38\n",
       "4      100 2022-01-05            2   21           190       40"
      ]
     },
     "execution_count": 26,
     "metadata": {},
     "output_type": "execute_result"
    }
   ],
   "source": [
    "df = pd.read_excel('Данные для тестового задания.xlsx', sheet_name='Листеры')\n",
    "df.head()"
   ]
  },
  {
   "cell_type": "code",
   "execution_count": 27,
   "id": "b7b8ce09-166b-44cc-b577-59b20d3b9cb9",
   "metadata": {},
   "outputs": [
    {
     "name": "stdout",
     "output_type": "stream",
     "text": [
      "Средний доход на пользователя (ARPU): 156.48\n"
     ]
    }
   ],
   "source": [
    "arpu=df['revenue'].sum()/df['user_id'].nunique()\n",
    "print(f\"Средний доход на пользователя (ARPU): {arpu:.2f}\")"
   ]
  },
  {
   "cell_type": "markdown",
   "id": "aeb46a95-5da8-4a83-bdd0-b01530a10671",
   "metadata": {},
   "source": [
    "10. По датасету с листерами посчитайте медиану возраста пользователя "
   ]
  },
  {
   "cell_type": "code",
   "execution_count": 28,
   "id": "fd9e76bd-3ce7-4ccf-8478-b1ed2c3088ef",
   "metadata": {},
   "outputs": [
    {
     "data": {
      "text/plain": [
       "np.float64(28.0)"
      ]
     },
     "execution_count": 28,
     "metadata": {},
     "output_type": "execute_result"
    }
   ],
   "source": [
    "df['age'].median()"
   ]
  },
  {
   "cell_type": "markdown",
   "id": "857a8896-fe03-44ed-ae62-cd372285974f",
   "metadata": {},
   "source": [
    "12. На каком графике бимодальное распределение?"
   ]
  },
  {
   "cell_type": "code",
   "execution_count": 18,
   "id": "24f7ac37-f7a0-495e-b4e5-09c2dd17426a",
   "metadata": {},
   "outputs": [
    {
     "data": {
      "image/png": "[encoded data removed]",
      "text/plain": [
       "<Figure size 800x500 with 1 Axes>"
      ]
     },
     "metadata": {},
     "output_type": "display_data"
    }
   ],
   "source": [
    "import numpy as np\n",
    "import matplotlib.pyplot as plt\n",
    "import seaborn as sns\n",
    "\n",
    "# Создаем искусственное бимодальное распределение\n",
    "data1 = np.random.normal(30, 5, 500)  # Первая мода (центр около 30)\n",
    "data2 = np.random.normal(70, 5, 500)  # Вторая мода (центр около 70)\n",
    "data = np.concatenate([data1, data2])  # Объединяем данные\n",
    "\n",
    "# Строим гистограмму\n",
    "plt.figure(figsize=(8, 5))\n",
    "sns.histplot(data, bins=30, kde=False, color='blue')  # kde=False, чтобы оставить чистую гистограмму\n",
    "plt.title(\"Гистограмма бимодального распределения\")\n",
    "plt.show()"
   ]
  },
  {
   "cell_type": "code",
   "execution_count": 19,
   "id": "6233478c-30a8-406a-ace7-6ee374d4aeca",
   "metadata": {},
   "outputs": [
    {
     "data": {
      "image/png": "[encoded data removed]",
      "text/plain": [
       "<Figure size 640x480 with 1 Axes>"
      ]
     },
     "metadata": {},
     "output_type": "display_data"
    }
   ],
   "source": [
    "sns.kdeplot(data, fill=True, color=\"blue\")\n",
    "plt.title(\"Плотность распределения (KDE)\")\n",
    "plt.show()"
   ]
  },
  {
   "cell_type": "markdown",
   "id": "31446790-3f22-42a6-b2d1-017ce13f9776",
   "metadata": {},
   "source": [
    "13. Какая случайная величина имеет наибольшую дисперсию данных по следующим графикам плотности распределения? "
   ]
  },
  {
   "cell_type": "code",
   "execution_count": 20,
   "id": "9d11bebd-6757-41a1-82ad-869d00178b67",
   "metadata": {},
   "outputs": [
    {
     "data": {
      "image/png": "[encoded data removed]",
      "text/plain": [
       "<Figure size 800x500 with 1 Axes>"
      ]
     },
     "metadata": {},
     "output_type": "display_data"
    }
   ],
   "source": [
    "import numpy as np\n",
    "import seaborn as sns\n",
    "import matplotlib.pyplot as plt\n",
    "\n",
    "# Генерируем три случайных распределения с разной дисперсией\n",
    "data_low_var = np.random.normal(50, 5, 1000)   # Низкая дисперсия (std=5)\n",
    "data_med_var = np.random.normal(50, 15, 1000)  # Средняя дисперсия (std=15)\n",
    "data_high_var = np.random.normal(50, 30, 1000) # Высокая дисперсия (std=30)\n",
    "\n",
    "# Строим KDE-графики\n",
    "plt.figure(figsize=(8, 5))\n",
    "sns.kdeplot(data_low_var, label=\"Низкая дисперсия\", color=\"blue\")\n",
    "sns.kdeplot(data_med_var, label=\"Средняя дисперсия\", color=\"green\")\n",
    "sns.kdeplot(data_high_var, label=\"Высокая дисперсия\", color=\"red\")\n",
    "\n",
    "plt.legend()\n",
    "plt.title(\"Графики плотности распределения с разной дисперсией\")\n",
    "plt.show()"
   ]
  },
  {
   "cell_type": "markdown",
   "id": "bd3009ec-4234-48a1-9ea4-526c04dd42fa",
   "metadata": {},
   "source": [
    "14. На каком графике можно посчитать корреляцию?"
   ]
  },
  {
   "cell_type": "code",
   "execution_count": 21,
   "id": "724584ee-0963-489e-b86a-7d8006fc96c4",
   "metadata": {},
   "outputs": [
    {
     "data": {
      "image/png": "[encoded data removed]",
      "text/plain": [
       "<Figure size 640x480 with 1 Axes>"
      ]
     },
     "metadata": {},
     "output_type": "display_data"
    }
   ],
   "source": [
    "import seaborn as sns\n",
    "import matplotlib.pyplot as plt\n",
    "\n",
    "# Пример данных\n",
    "import numpy as np\n",
    "import pandas as pd\n",
    "np.random.seed(42)\n",
    "x = np.random.rand(100)\n",
    "y = 2 * x + np.random.normal(0, 0.1, 100)  # Линейная зависимость с шумом\n",
    "\n",
    "df = pd.DataFrame({'X': x, 'Y': y})\n",
    "\n",
    "# Строим scatterplot\n",
    "sns.scatterplot(x='X', y='Y', data=df)\n",
    "plt.title(\"Диаграмма рассеяния (Scatterplot)\")\n",
    "plt.show()"
   ]
  },
  {
   "cell_type": "markdown",
   "id": "a1a5cb3c-ca1c-4110-8e58-6419c9c43b53",
   "metadata": {},
   "source": [
    "18. Были получены следующие результаты. Коллеги просят вас подтвердить их и сделать окончательный вывод по эксперименту.\n",
    "•\tВариант A (контрольная группа) — 100 047 501 посетитель, 1003 платежа.\n",
    "•\tВариант B (тестовая группа) — 100 001 055 посетителей, 1099 платежей.\n",
    "Какие рекомендации вы бы дали, основываясь на этих данных?"
   ]
  },
  {
   "cell_type": "code",
   "execution_count": 22,
   "id": "a66b13eb-f2eb-49bc-9eb0-be9420d67b63",
   "metadata": {},
   "outputs": [
    {
     "name": "stdout",
     "output_type": "stream",
     "text": [
      "χ²-статистика: 4.3378, p-value: 0.037275\n",
      "Разница значима, тестовая группа действительно лучше\n"
     ]
    }
   ],
   "source": [
    "import scipy.stats as stats\n",
    "import numpy as np\n",
    "\n",
    "# Данные\n",
    "visitors_A, payments_A = 100047501, 1003\n",
    "visitors_B, payments_B = 100001055, 1099\n",
    "\n",
    "# Создаем таблицу сопряженности\n",
    "contingency_table = np.array([\n",
    "    [payments_A, visitors_A - payments_A],\n",
    "    [payments_B, visitors_B - payments_B]\n",
    "])\n",
    "\n",
    "# Хи-квадрат тест\n",
    "chi2, p_value, _, _ = stats.chi2_contingency(contingency_table)\n",
    "\n",
    "print(f\"χ²-статистика: {chi2:.4f}, p-value: {p_value:.6f}\")\n",
    "\n",
    "if p_value < 0.05:\n",
    "    print(f\"Разница значима, тестовая группа действительно лучше\")\n",
    "else :\n",
    "    print(f\"Разница не значима, эффект случайный.\")"
   ]
  },
  {
   "cell_type": "code",
   "execution_count": null,
   "id": "00d382d8-59f1-49d3-864a-1a5adcb9f24c",
   "metadata": {},
   "outputs": [],
   "source": []
  },
  {
   "cell_type": "code",
   "execution_count": null,
   "id": "7cf4b64d-eeb2-420c-ad22-10b7911f137a",
   "metadata": {},
   "outputs": [],
   "source": []
  },
  {
   "cell_type": "code",
   "execution_count": null,
   "id": "6039e75c-59f0-4b09-adca-b75f6a873162",
   "metadata": {},
   "outputs": [],
   "source": []
  },
  {
   "cell_type": "code",
   "execution_count": null,
   "id": "10c77b4a-0fd0-49f1-a5fb-fdc8718ef9ba",
   "metadata": {},
   "outputs": [],
   "source": []
  }
 ],
 "metadata": {
  "kernelspec": {
   "display_name": "Python 3",
   "language": "python",
   "name": "python3"
  },
  "language_info": {
   "codemirror_mode": {
    "name": "ipython",
    "version": 3
   },
   "file_extension": ".py",
   "mimetype": "text/x-python",
   "name": "python",
   "nbconvert_exporter": "python",
   "pygments_lexer": "ipython3",
   "version": "3.13.1"
  }
 },
 "nbformat": 4,
 "nbformat_minor": 5
}
